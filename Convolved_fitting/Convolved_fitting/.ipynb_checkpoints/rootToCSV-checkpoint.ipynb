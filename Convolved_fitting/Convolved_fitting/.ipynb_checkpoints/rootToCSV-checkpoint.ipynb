{
 "cells": [
  {
   "cell_type": "code",
   "execution_count": 2,
   "id": "fb139b5a",
   "metadata": {},
   "outputs": [],
   "source": [
    "import uproot\n",
    "import pandas as pd"
   ]
  },
  {
   "cell_type": "code",
   "execution_count": 4,
   "id": "32d7a811",
   "metadata": {},
   "outputs": [
    {
     "name": "stdout",
     "output_type": "stream",
     "text": [
      "File name: output00338.root\n",
      "Done\n"
     ]
    }
   ],
   "source": [
    "#For dltdc8\n",
    "fileName = str(input(\"File name: \")) #output#####.root\n",
    "\n",
    "runNo = fileName.replace(\".root\", '').replace(\"output\", '')\n",
    "\n",
    "plots = [\"dltdc8_pair1_t_01_09_ns_cut_twc\", \"dltdc8_pair2_t_02_10_ns_cut_twc\",\"dltdc8_pair3_t_03_11_ns_cut_twc\",\n",
    "        \"dltdc8_pair4_t_04_12_ns_cut_twc\", \"dltdc8_pair5_t_05_13_ns_cut_twc\", \"dltdc8_pair6_t_06_14_ns_cut_twc\",\n",
    "        \"dltdc8_pair7_t_07_15_ns_cut_twc\", \"dltdc8_pair8_t_08_16_ns_cut_twc\"]\n",
    "\n",
    "for i in range(len(plots)):\n",
    "    with uproot.open(\"/Users/gabbygelinas/Desktop/Masters/RootFiles/\"+fileName) as f:\n",
    "        timeDiff = f[\"dltdc8\"][plots[i]].to_numpy()[0] #y data (# of counts per bin)\n",
    "        x_root = f[\"dltdc8\"][plots[i]].to_numpy()[1][0:-1] #x data (bins)\n",
    "    \n",
    "    # Create a DataFrame\n",
    "    df = pd.DataFrame({\n",
    "        'timeDiff': timeDiff,\n",
    "        'x_root': x_root\n",
    "    })\n",
    "    \n",
    "    # Export to CSV\n",
    "    csv_path = \"/Users/gabbygelinas/Desktop/Masters/Convolved_fitting/csv/run\"+runNo+\"_\"+(plots[i].replace(\"dltdc8_\",\"\"))\n",
    "    df.to_csv(csv_path, index=False)\n",
    "    \n",
    "print(\"Done\")"
   ]
  },
  {
   "cell_type": "code",
   "execution_count": 9,
   "id": "b480518c",
   "metadata": {},
   "outputs": [
    {
     "name": "stdout",
     "output_type": "stream",
     "text": [
      "File name: output00055.root\n",
      "Done\n"
     ]
    }
   ],
   "source": [
    "#For old files when we only had 4 paddles\n",
    "fileName = str(input(\"File name: \")) #output#####.root\n",
    "\n",
    "runNo = fileName.replace(\".root\", '').replace(\"output\", '')\n",
    "\n",
    "plots = [\"t14ns_1458\", \"t58ns_1458\", \"t23ns_2367\", \"t67ns_2367\"]\n",
    "\n",
    "for i in range(len(plots)):\n",
    "    with uproot.open(\"/Users/gabbygelinas/Desktop/Masters/RootFiles/\"+fileName) as f:\n",
    "        timeDiff = f[\"dltdc\"][plots[i]].to_numpy()[0] #y data (# of counts per bin)\n",
    "        x_root = f[\"dltdc\"][plots[i]].to_numpy()[1][0:-1] #x data (bins)\n",
    "    \n",
    "    # Create a DataFrame\n",
    "    df = pd.DataFrame({\n",
    "        'timeDiff': timeDiff,\n",
    "        'x_root': x_root\n",
    "    })\n",
    "    \n",
    "    # Export to CSV\n",
    "    csv_path = \"/Users/gabbygelinas/Desktop/Masters/Convolved_fitting/csv/run\"+runNo+\"_\"+plots[i]\n",
    "    df.to_csv(csv_path, index=False)\n",
    "    \n",
    "print(\"Done\")"
   ]
  },
  {
   "cell_type": "code",
   "execution_count": null,
   "id": "1406190d",
   "metadata": {},
   "outputs": [],
   "source": []
  }
 ],
 "metadata": {
  "kernelspec": {
   "display_name": "Python 3 (ipykernel)",
   "language": "python",
   "name": "python3"
  },
  "language_info": {
   "codemirror_mode": {
    "name": "ipython",
    "version": 3
   },
   "file_extension": ".py",
   "mimetype": "text/x-python",
   "name": "python",
   "nbconvert_exporter": "python",
   "pygments_lexer": "ipython3",
   "version": "3.11.5"
  }
 },
 "nbformat": 4,
 "nbformat_minor": 5
}
